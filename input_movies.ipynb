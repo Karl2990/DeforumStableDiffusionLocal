{
 "cells": [
  {
   "cell_type": "code",
   "execution_count": 4,
   "outputs": [],
   "source": [
    "from scripts.clip_processing import clip_processing\n",
    "from yt_dlp import YoutubeDL\n",
    "import moviepy.editor as mp"
   ],
   "metadata": {
    "collapsed": false,
    "pycharm": {
     "name": "#%%\n"
    }
   }
  },
  {
   "cell_type": "code",
   "execution_count": 2,
   "outputs": [],
   "source": [
    "vids = {'sturgill_turtles':'https://www.youtube.com/watch?v=6gBV-Nzq7Pg',\n",
    "        'staticx_pushit':'https://www.youtube.com/watch?v=Ps0MfBG5-Uo',\n",
    "        }"
   ],
   "metadata": {
    "collapsed": false,
    "pycharm": {
     "name": "#%%\n"
    }
   }
  },
  {
   "cell_type": "code",
   "execution_count": 3,
   "outputs": [
    {
     "name": "stdout",
     "output_type": "stream",
     "text": [
      "[youtube] Ps0MfBG5-Uo: Downloading webpage\n",
      "[youtube] Ps0MfBG5-Uo: Downloading android player API JSON\n",
      "[info] Ps0MfBG5-Uo: Downloading 1 format(s): 18\n",
      "[download] Destination: Static-X - Push It (Official Music Video) ｜ Warner Vault [Ps0MfBG5-Uo].mp4\n",
      "[download] 100% of    9.44MiB in 00:00:00 at 12.23MiB/s    \n"
     ]
    }
   ],
   "source": [
    "with YoutubeDL() as ydl:\n",
    "    ydl.download(vids['staticx_pushit'])"
   ],
   "metadata": {
    "collapsed": false,
    "pycharm": {
     "name": "#%%\n"
    }
   }
  },
  {
   "cell_type": "code",
   "execution_count": 6,
   "outputs": [
    {
     "name": "stdout",
     "output_type": "stream",
     "text": [
      "MoviePy - Writing audio in C:\\Users\\karl2\\Documents\\deforum\\DeforumStableDiffusionLocal\\input\\music_videos\\staticx_pushit.mp3\n"
     ]
    },
    {
     "name": "stderr",
     "output_type": "stream",
     "text": [
      "                                                                      "
     ]
    },
    {
     "name": "stdout",
     "output_type": "stream",
     "text": [
      "MoviePy - Done.\n"
     ]
    },
    {
     "name": "stderr",
     "output_type": "stream",
     "text": [
      "\r"
     ]
    }
   ],
   "source": [
    "def strip_audio(vid_path):\n",
    "    clip = mp.VideoFileClip(vid_path)\n",
    "    clip.audio.write_audiofile(vid_path.replace('.mp4','.mp3'))\n",
    "    clip.close()\n",
    "\n",
    "strip_audio(r'C:\\Users\\karl2\\Documents\\deforum\\DeforumStableDiffusionLocal\\input\\music_videos\\staticx_pushit.mp4')"
   ],
   "metadata": {
    "collapsed": false,
    "pycharm": {
     "name": "#%%\n"
    }
   }
  }
 ],
 "metadata": {
  "kernelspec": {
   "display_name": "Python 3",
   "language": "python",
   "name": "python3"
  },
  "language_info": {
   "codemirror_mode": {
    "name": "ipython",
    "version": 2
   },
   "file_extension": ".py",
   "mimetype": "text/x-python",
   "name": "python",
   "nbconvert_exporter": "python",
   "pygments_lexer": "ipython2",
   "version": "2.7.6"
  }
 },
 "nbformat": 4,
 "nbformat_minor": 0
}